{
 "cells": [
  {
   "cell_type": "code",
   "execution_count": null,
   "metadata": {},
   "outputs": [],
   "source": [
    "def calculator():\n",
    "\n",
    "#Variables\n",
    "    try:\n",
    "        num = float(input(\"Please enter your first number\"))   \n",
    "        oper = (input(\" +,-, *,/, %, **,// \"))\n",
    "        num2 = float(input(\"Enter your second number\"))\n",
    "\n",
    "    except ValueError: \n",
    "        print(\"Error: You must use numerical values and valid operators\")\n",
    "\n",
    "# Answer Prints\n",
    "    \n",
    "    if oper == \"+\":\n",
    "        print(num + num2)\n",
    "        \n",
    "    elif oper == \"-\":\n",
    "        print(num - num2)\n",
    "\n",
    "    elif oper == \"*\":\n",
    "        print(num * num2)\n",
    "        \n",
    "    elif oper == \"/\":\n",
    "        print(num / num2)\n",
    "\n",
    "    elif oper == \"%\":\n",
    "        print(num % num2)\n",
    "\n",
    "    elif oper == \"**\":\n",
    "        print(num ** num2)\n",
    "\n",
    "    elif oper == \"//\":\n",
    "        print(num // num2)\n",
    "\n",
    "    else:\n",
    "        print(\"Error: You must use numerical values and valid operators. You used\", num, oper, num2, \". Try again.\")\n",
    "        \n",
    "calculator()"
   ]
  }
 ],
 "metadata": {
  "language_info": {
   "name": "python"
  },
  "orig_nbformat": 4
 },
 "nbformat": 4,
 "nbformat_minor": 2
}
