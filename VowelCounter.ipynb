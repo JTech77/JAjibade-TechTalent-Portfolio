{
 "cells": [
  {
   "cell_type": "code",
   "execution_count": null,
   "metadata": {},
   "outputs": [],
   "source": [
    "def VowelCounter():\n",
    "\n",
    "    from collections import Counter\n",
    "\n",
    "#Variables\n",
    "\n",
    "    Variable = (input(\"Enter Your Word or Sentence\"))\n",
    "    counter = Counter(Variable)\n",
    "\n",
    "    print(\"There are\", counter [\"a\"], \"A vowels counted.\")\n",
    "    print(\"There are\", counter [\"e\"], \"E vowels counted.\")\n",
    "    print(\"There are\", counter [\"i\"], \"I vowels counted.\")\n",
    "    print(\"There are\", counter [\"o\"], \"O vowels counted.\")\n",
    "    print(\"There are\", counter [\"u\"], \"U vowels counted.\")\n",
    "\n",
    "\n",
    "VowelCounter()"
   ]
  }
 ],
 "metadata": {
  "kernelspec": {
   "display_name": "Python 3",
   "language": "python",
   "name": "python3"
  },
  "language_info": {
   "name": "python",
   "version": "3.11.1"
  },
  "orig_nbformat": 4
 },
 "nbformat": 4,
 "nbformat_minor": 2
}
