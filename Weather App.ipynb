{
 "cells": [
  {
   "cell_type": "code",
   "execution_count": 10,
   "metadata": {},
   "outputs": [
    {
     "name": "stdout",
     "output_type": "stream",
     "text": [
      "{'base': 'stations',\n",
      " 'clouds': {'all': 100},\n",
      " 'cod': 200,\n",
      " 'coord': {'lat': 54.5833, 'lon': -5.9333},\n",
      " 'dt': 1684056656,\n",
      " 'id': 2655984,\n",
      " 'main': {'feels_like': 284.58,\n",
      "          'humidity': 87,\n",
      "          'pressure': 1019,\n",
      "          'temp': 285.06,\n",
      "          'temp_max': 285.58,\n",
      "          'temp_min': 284.48},\n",
      " 'name': 'Belfast',\n",
      " 'rain': {'1h': 1.69},\n",
      " 'sys': {'country': 'GB',\n",
      "         'id': 1376,\n",
      "         'sunrise': 1684038033,\n",
      "         'sunset': 1684095585,\n",
      "         'type': 1},\n",
      " 'timezone': 3600,\n",
      " 'visibility': 7000,\n",
      " 'weather': [{'description': 'light intensity drizzle rain',\n",
      "              'icon': '09d',\n",
      "              'id': 310,\n",
      "              'main': 'Drizzle'},\n",
      "             {'description': 'moderate rain',\n",
      "              'icon': '10d',\n",
      "              'id': 501,\n",
      "              'main': 'Rain'}],\n",
      " 'wind': {'deg': 240, 'speed': 4.63}}\n"
     ]
    }
   ],
   "source": [
    "import requests\n",
    "from pprint import pprint\n",
    "\n",
    "API_Key = \"610b62811c823126d230372915ca1d55\"\n",
    "\n",
    "city = input(\"Enter a city:\")\n",
    "\n",
    "base_url = \"https://api.openweathermap.org/data/2.5/weather?lat=35&lon=139&appid=\"+API_Key+\"&q=\"+city\n",
    "\n",
    "weather_data = requests.get(base_url).json()\n",
    "\n",
    "pprint(weather_data)"
   ]
  }
 ],
 "metadata": {
  "kernelspec": {
   "display_name": "Python 3",
   "language": "python",
   "name": "python3"
  },
  "language_info": {
   "codemirror_mode": {
    "name": "ipython",
    "version": 3
   },
   "file_extension": ".py",
   "mimetype": "text/x-python",
   "name": "python",
   "nbconvert_exporter": "python",
   "pygments_lexer": "ipython3",
   "version": "3.11.1"
  },
  "orig_nbformat": 4,
  "vscode": {
   "interpreter": {
    "hash": "064992e52fe72720265f0d9f343b429b679ddcb3d1a3a787da18c52c33523a2c"
   }
  }
 },
 "nbformat": 4,
 "nbformat_minor": 2
}
