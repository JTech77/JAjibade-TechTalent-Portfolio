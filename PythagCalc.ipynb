{
 "cells": [
  {
   "cell_type": "code",
   "execution_count": null,
   "metadata": {},
   "outputs": [],
   "source": [
    "#Program\n",
    "def PythagorasCalc():\n",
    "\n",
    "    print(\"Welcome To The Pythagoras Calculator\\n\", \"Find the length of side1, input numbers for side2 and side3\\n\",\"Find the length of side2, input numbers for side1 and side3\\n\",\"Find the length of side3, input numbers for side1 and side2\\n\" )\n",
    "    userinput=input(\"which side would you like to calculate? 1, 2, or 3. Press N to leave.\")\n",
    "\n",
    "    if userinput == \"1\":\n",
    "        side2 = float(input(\"Length of side 2. Numerical Value, Please\"))\n",
    "        side3 = float(input(\"Length of side 3. Numerical Value, Please\"))\n",
    "\n",
    "        side1answer = side2*side2 + side3*side3\n",
    "        print(\"The length of side1 is\", side1answer, \"Thank you for using the program\")\n",
    "    \n",
    "    elif userinput == \"2\":\n",
    "        side1 = float(input(\"Length of side 1. Numerical Value, Please\"))\n",
    "        side3 = float(input(\"Length of side 3. Numerical Value, Please\"))\n",
    "\n",
    "        side2answer = side1*side1 + side3*side3\n",
    "        print(\"The length of side2 is\", side2answer, \"Thank you for using the program\")\n",
    "\n",
    "    elif userinput == \"3\":\n",
    "        side1 = float(input(\"Length of side 1. Numerical Value, Please\"))\n",
    "        side2 = float(input(\"Length of side 2. Numerical Value, Please\"))\n",
    "\n",
    "        side2answer = side1*side1 + side2*side2\n",
    "        print(\"The length of side3 is\", side2answer, \"Thank you for using the program\")\n",
    "\n",
    "    elif userinput == \"N\":\n",
    "        print(\"You have exited the program.\")\n",
    "    \n",
    "    else:\n",
    "        print(\"Invalid Input, Try Again\")\n",
    "\n",
    "PythagorasCalc()"
   ]
  }
 ],
 "metadata": {
  "kernelspec": {
   "display_name": "Python 3",
   "language": "python",
   "name": "python3"
  },
  "language_info": {
   "name": "python",
   "version": "3.11.1"
  },
  "orig_nbformat": 4
 },
 "nbformat": 4,
 "nbformat_minor": 2
}
