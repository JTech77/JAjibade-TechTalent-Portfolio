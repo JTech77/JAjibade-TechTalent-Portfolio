{
 "cells": [
  {
   "cell_type": "code",
   "execution_count": null,
   "metadata": {},
   "outputs": [],
   "source": [
    "def VolumeCalc():\n",
    "    \n",
    "#Variables\n",
    "    width = float(input(\"Insert numerical value for width\"))\n",
    "    depth = float(input(\"Insert numerical value for depth\"))\n",
    "    height = float(input(\"Insert numerical value for height\"))\n",
    "\n",
    "    volume = width * depth * height\n",
    "    return(volume)\n",
    "\n",
    "        \n",
    "#Program\n",
    "VolumeCalc()"
   ]
  }
 ],
 "metadata": {
  "kernelspec": {
   "display_name": "Python 3",
   "language": "python",
   "name": "python3"
  },
  "language_info": {
   "name": "python",
   "version": "3.11.1"
  },
  "orig_nbformat": 4
 },
 "nbformat": 4,
 "nbformat_minor": 2
}
